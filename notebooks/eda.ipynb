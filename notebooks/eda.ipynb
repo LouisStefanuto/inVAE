{
 "cells": [
  {
   "cell_type": "markdown",
   "id": "0",
   "metadata": {},
   "source": [
    "# EDA\n",
    "\n",
    "## Open data\n"
   ]
  },
  {
   "cell_type": "code",
   "execution_count": null,
   "id": "1",
   "metadata": {},
   "outputs": [],
   "source": [
    "import scanpy as sc"
   ]
  },
  {
   "cell_type": "code",
   "execution_count": null,
   "id": "2",
   "metadata": {},
   "outputs": [],
   "source": [
    "# 1. Load and explore\n",
    "adata = sc.read(\n",
    "    \"../data/pancreas.h5ad\",\n",
    "    backup_url=\"https://www.dropbox.com/s/qj1jlm9w10wmt0u/pancreas.h5ad?dl=1\",\n",
    ")\n",
    "print(adata)"
   ]
  },
  {
   "cell_type": "code",
   "execution_count": null,
   "id": "3",
   "metadata": {},
   "outputs": [],
   "source": [
    "adata.X"
   ]
  },
  {
   "cell_type": "code",
   "execution_count": null,
   "id": "4",
   "metadata": {},
   "outputs": [],
   "source": [
    "adata.raw.X.toarray()"
   ]
  },
  {
   "cell_type": "code",
   "execution_count": null,
   "id": "5",
   "metadata": {},
   "outputs": [],
   "source": [
    "adata.obs"
   ]
  },
  {
   "cell_type": "code",
   "execution_count": null,
   "id": "6",
   "metadata": {},
   "outputs": [],
   "source": [
    "adata.var"
   ]
  },
  {
   "cell_type": "code",
   "execution_count": null,
   "id": "7",
   "metadata": {},
   "outputs": [],
   "source": [
    "print(f\"Cell types: {adata.obs.celltype.value_counts()}\")"
   ]
  },
  {
   "cell_type": "markdown",
   "id": "8",
   "metadata": {},
   "source": [
    "## Visualization\n"
   ]
  },
  {
   "cell_type": "code",
   "execution_count": null,
   "id": "9",
   "metadata": {},
   "outputs": [],
   "source": [
    "print(\"Shape PCA: \", adata.obsm[\"X_pca\"].shape)\n",
    "print(\"Shape UMAP: \", adata.obsm[\"X_umap\"].shape)"
   ]
  },
  {
   "cell_type": "code",
   "execution_count": null,
   "id": "10",
   "metadata": {},
   "outputs": [],
   "source": [
    "# Plot UMAP colored by metadata fields in .obs\n",
    "sc.pl.umap(adata, color=[\"celltype\", \"sample\"])"
   ]
  },
  {
   "cell_type": "code",
   "execution_count": null,
   "id": "11",
   "metadata": {},
   "outputs": [],
   "source": [
    "# sc.pl.highest_expr_genes(adata, n_top=20)"
   ]
  },
  {
   "cell_type": "markdown",
   "id": "12",
   "metadata": {},
   "source": [
    "# Preprocessing"
   ]
  },
  {
   "cell_type": "code",
   "execution_count": null,
   "id": "13",
   "metadata": {},
   "outputs": [],
   "source": [
    "adata"
   ]
  },
  {
   "cell_type": "code",
   "execution_count": null,
   "id": "14",
   "metadata": {},
   "outputs": [],
   "source": [
    "adata.raw.X.shape"
   ]
  },
  {
   "cell_type": "code",
   "execution_count": null,
   "id": "15",
   "metadata": {},
   "outputs": [],
   "source": [
    "# 2. Standard preprocessing of data\n",
    "sc.pp.filter_genes(adata, min_cells=10)\n",
    "sc.pp.filter_cells(adata, min_genes=200)\n",
    "# sc.pp.normalize_total(adata)\n",
    "# sc.pp.log1p(adata)\n",
    "\n",
    "print(f\"Shape: {adata.shape}\")"
   ]
  },
  {
   "cell_type": "markdown",
   "id": "16",
   "metadata": {},
   "source": [
    "## Explo\n"
   ]
  },
  {
   "cell_type": "code",
   "execution_count": null,
   "id": "17",
   "metadata": {},
   "outputs": [],
   "source": [
    "adata = sc.read(\n",
    "    \"../data/pancreas.h5ad\",\n",
    "    backup_url=\"https://www.dropbox.com/s/qj1jlm9w10wmt0u/pancreas.h5ad?dl=1\",\n",
    ")\n",
    "print(adata)"
   ]
  },
  {
   "cell_type": "code",
   "execution_count": null,
   "id": "18",
   "metadata": {},
   "outputs": [],
   "source": [
    "target_genes = 1000\n",
    "sc.pp.highly_variable_genes(\n",
    "    adata, flavor=\"cell_ranger\", n_top_genes=target_genes, batch_key=\"batch\"\n",
    ")"
   ]
  },
  {
   "cell_type": "code",
   "execution_count": null,
   "id": "19",
   "metadata": {},
   "outputs": [],
   "source": [
    "# As we don't have enough target genes, we need to consider the 'next best' HVGs\n",
    "n_batches = len(adata.obs[\"batch\"].cat.categories)\n",
    "# These are the genes that are variable across all batches\n",
    "nbatch1_dispersions = adata.var[\"dispersions_norm\"][\n",
    "    adata.var.highly_variable_nbatches > n_batches - 1\n",
    "]\n",
    "nbatch1_dispersions.sort_values(ascending=False, inplace=True)\n",
    "print(len(nbatch1_dispersions))"
   ]
  },
  {
   "cell_type": "code",
   "execution_count": null,
   "id": "20",
   "metadata": {},
   "outputs": [],
   "source": []
  },
  {
   "cell_type": "code",
   "execution_count": null,
   "id": "21",
   "metadata": {},
   "outputs": [],
   "source": [
    "adata = sc.read(\n",
    "    \"../data/pbmc_10k_protein_v3.h5ad\",\n",
    "    backup_url=\"https://github.com/YosefLab/scVI-data/raw/master/pbmc_10k_protein_v3.h5ad?raw=true\",\n",
    ")\n",
    "\n",
    "adata"
   ]
  },
  {
   "cell_type": "code",
   "execution_count": null,
   "id": "22",
   "metadata": {},
   "outputs": [],
   "source": [
    "# 2. Standard preprocessing of data\n",
    "sc.pp.filter_genes(adata, min_cells=10)\n",
    "sc.pp.filter_cells(adata, min_genes=200)\n",
    "sc.pp.normalize_total(adata)\n",
    "sc.pp.log1p(adata)\n",
    "\n",
    "print(f\"Shape: {adata.shape}\")\n",
    "print(adata.X)"
   ]
  }
 ],
 "metadata": {
  "kernelspec": {
   "display_name": ".venv",
   "language": "python",
   "name": "python3"
  },
  "language_info": {
   "codemirror_mode": {
    "name": "ipython",
    "version": 3
   },
   "file_extension": ".py",
   "mimetype": "text/x-python",
   "name": "python",
   "nbconvert_exporter": "python",
   "pygments_lexer": "ipython3",
   "version": "3.13.5"
  }
 },
 "nbformat": 4,
 "nbformat_minor": 5
}
